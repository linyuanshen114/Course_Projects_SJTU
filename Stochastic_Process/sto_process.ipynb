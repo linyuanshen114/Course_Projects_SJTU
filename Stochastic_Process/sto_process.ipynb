{
 "cells": [
  {
   "cell_type": "code",
   "execution_count": 5,
   "metadata": {},
   "outputs": [],
   "source": [
    "import numpy as np\n",
    "import matplotlib.pyplot as plt\n",
    "import matplotlib as mpl\n",
    "mpl.use('pgf') # 修改绘图后端\n",
    "\n",
    "def BM(x0 = 0, c =1, dt = 0.01, T = 1):\n",
    "    N = int(T/dt)\n",
    "    x = np.zeros(N+1)\n",
    "    x[0] = x0\n",
    "    for i in range(N):\n",
    "        x[i+1] = x[i] + np.random.normal(0, c*dt**0.5)\n",
    "    return x\n",
    "\n",
    "def first_order(x,p=1):\n",
    "    variation = abs(x[p:]-x[:-p])\n",
    "    return np.array([0 for i in range(p-1)]+[sum(variation[:i]) for i in range(len(variation)+1)])\n",
    "\n",
    "def second_order(x,p=1):\n",
    "    second_variation = (x[p:]-x[:-p])**2\n",
    "    return np.array([0 for i in range(p-1)]+[sum(second_variation[:i]) for i in range(len(second_variation)+1)])\n",
    "\n",
    "def second_order_mix(x,y,p=1):\n",
    "    second_variation = (x[p:]-x[:-p])*(y[p:]-y[:-p])\n",
    "    return np.array([sum(second_variation[:i]) for i in range(len(second_variation)+1)])\n",
    "\n",
    "def OU(x0=0, c=1, dt=0.01, T=1, alpha=1, v=0, sigma =1):\n",
    "    N = int(T/dt)\n",
    "    x = np.zeros(N+1)\n",
    "    x[0] = x0\n",
    "    for i in range(N):\n",
    "        x[i+1] = x[i] + alpha*(v-x[i])*dt + sigma*np.random.normal(0, c*dt**0.5)\n",
    "    return x\n",
    "\n",
    "def OU_set(x0=0,s0=0, c=1, dt=0.01, T=1, alpha=1, v=0, theta=1, sigma =1, sigma_1 = 1, sigma_2 = 1):\n",
    "    N = int(T/dt)\n",
    "    x = np.zeros(N+1)\n",
    "    s = np.zeros(N+1)\n",
    "    x[0] = x0\n",
    "    s[0] = s0\n",
    "    for i in range(N):\n",
    "        dB = np.random.normal(0, c*dt**0.5)\n",
    "        x[i+1] = x[i] + alpha*(v-x[i])*dt + sigma*dB\n",
    "        s[i+1] = s[i] + theta*(x[i]-s[i])*dt + sigma_1*dB + sigma_2*np.random.normal(0, c*dt**0.5)\n",
    "    return [x,s]"
   ]
  },
  {
   "cell_type": "code",
   "execution_count": 3,
   "metadata": {},
   "outputs": [],
   "source": [
    "def plot_BM(x0 = 0, c =1, dt = 0.01, T = 1):\n",
    "    x = BM(x0, c, dt, T)\n",
    "    s_1 = first_order(x)\n",
    "    s_2 = second_order(x)\n",
    "    plt.figure(figsize=(18,6))\n",
    "    plt.subplot(1,3,1)\n",
    "    plt.plot(np.arange(0,T+dt,dt),x)\n",
    "    plt.subplot(1,3,2)\n",
    "    plt.plot(np.arange(0,T,T/s_1.size),s_1)\n",
    "    plt.subplot(1,3,3)\n",
    "    plt.plot(np.arange(0,T,T/s_2.size),s_2)\n",
    "    plt.savefig('pic-TENOVA.png',dpi=400)"
   ]
  },
  {
   "cell_type": "code",
   "execution_count": 4,
   "metadata": {},
   "outputs": [],
   "source": [
    "def plot_OU(x0=0, c=1, dt=0.01, T=1, alpha=1, v=0,sigma=1):\n",
    "    x = OU(x0, c, dt, T, alpha, v,sigma)\n",
    "    plt.figure(figsize=(12,6))\n",
    "    plt.subplot(1,2,1)\n",
    "    plt.plot(x)\n",
    "    plt.subplot(1,2,2)\n",
    "    plt.plot(second_order(x))\n",
    "    plt.show()"
   ]
  },
  {
   "cell_type": "code",
   "execution_count": 5,
   "metadata": {},
   "outputs": [],
   "source": [
    "def plot_OU_set(x0=0,s0=0, c=1, dt=0.01, T=1, alpha=1, v=0, theta=1, sigma =1, sigma_1 = 1, sigma_2 = 1):\n",
    "    X_S = OU_set(x0,s0, c, dt, T, alpha, v, theta, sigma, sigma_1, sigma_2)\n",
    "    plt.figure(figsize=(12,6))\n",
    "    plt.subplot(1,2,1)\n",
    "    plt.plot(X_S[0], label = 'X')\n",
    "    plt.plot(X_S[1], label = 'S')\n",
    "    plt.legend()\n",
    "    plt.subplot(1,2,2)\n",
    "    plt.plot(second_order_mix(X_S[0],X_S[1]))\n",
    "    plt.show()"
   ]
  },
  {
   "cell_type": "code",
   "execution_count": 6,
   "metadata": {},
   "outputs": [],
   "source": [
    "plot_BM(0,1,0.01,10)"
   ]
  },
  {
   "cell_type": "code",
   "execution_count": 7,
   "metadata": {},
   "outputs": [],
   "source": [
    "plt.figure(figsize=(9,9))\n",
    "for i in range(10):\n",
    "    plt.plot(np.arange(0,10.01,0.01),BM(0,1,0.01,10))\n",
    "plt.plot(np.arange(0,10.01,0.01),np.arange(0,10.01,0.01)*0,'--',color='black', label = r'$x = 0$')\n",
    "plt.plot(np.arange(0,10.01,0.01),np.arange(0,10.01,0.01)**0.5,'--',color='darkgreen', label = r'$x =\\pm \\sqrt{t}$')\n",
    "plt.plot(np.arange(0,10.01,0.01),-np.arange(0,10.01,0.01)**0.5,'--',color='darkgreen')\n",
    "plt.legend(loc='upper left',fontsize=18)\n",
    "plt.xlabel(r'时间',fontfamily='SimHei')\n",
    "plt.ylabel(r'位置',fontfamily='SimHei') \n",
    "plt.title(r'多条标准布朗运动',fontfamily='SimHei')\n",
    "plt.savefig('q1_1.png',dpi=400)"
   ]
  },
  {
   "cell_type": "code",
   "execution_count": 8,
   "metadata": {},
   "outputs": [],
   "source": [
    "c=[0.1,0.5,1,5,10]\n",
    "plt.figure(figsize=(18,9))\n",
    "for i in range(5):\n",
    "    lab = '$c=' + str(c[i]) + '$'\n",
    "    plt.plot(np.arange(0,20.005,0.01),BM(0,c[i],0.01,20),label=rf'c = {c[i]}')\n",
    "plt.plot(np.arange(0,20.01,0.01),np.arange(0,20.01,0.01)*0,'--',color='black', label = r'$x = 0$')\n",
    "plt.legend(loc='upper left',fontsize=18)\n",
    "plt.xlabel(r'时间',fontfamily='SimHei')\n",
    "plt.ylabel(r'位置',fontfamily='SimHei') \n",
    "plt.title(r'多条不同方差大小的布朗运动',fontfamily='SimHei')\n",
    "plt.savefig('q1_2.png',dpi=400)"
   ]
  },
  {
   "cell_type": "code",
   "execution_count": 9,
   "metadata": {},
   "outputs": [
    {
     "data": {
      "text/plain": [
       "3"
      ]
     },
     "execution_count": 9,
     "metadata": {},
     "output_type": "execute_result"
    }
   ],
   "source": [
    "a = np.array([1,2,3])\n",
    "a.size"
   ]
  },
  {
   "cell_type": "code",
   "execution_count": 23,
   "metadata": {},
   "outputs": [],
   "source": [
    "plt.figure(figsize=(18,6))\n",
    "for i in range(10):\n",
    "    x=BM(dt = 0.01, T = 10)\n",
    "    plt.subplot(1,3,1)\n",
    "    plt.plot(np.arange(0,10.01,0.01),x)\n",
    "    plt.title(r'布朗运动轨迹',fontfamily='SimHei')\n",
    "    plt.subplot(1,3,2)\n",
    "    plt.plot(np.arange(0,10.01,0.01),first_order(x))\n",
    "    plt.title(r'一阶变差',fontfamily='SimHei')\n",
    "    plt.subplot(1,3,3)\n",
    "    plt.plot(np.arange(0,10.01,0.01),second_order(x))\n",
    "    plt.title(r'二阶变差',fontfamily='SimHei')\n",
    "plt.savefig('p1_3.png',dpi=400)"
   ]
  },
  {
   "cell_type": "code",
   "execution_count": 22,
   "metadata": {},
   "outputs": [],
   "source": [
    "c = [0.1,0.5,1,3,6]\n",
    "plt.figure(figsize=(18,6))\n",
    "for i in range(5):\n",
    "    x=BM(c =c[i], dt = 0.01, T = 10)\n",
    "    plt.subplot(1,3,1)\n",
    "    plt.plot(np.arange(0,10.01,0.01),x,label=rf'c = {c[i]}')\n",
    "    plt.title(r'布朗运动轨迹',fontfamily='SimHei')\n",
    "    plt.subplot(1,3,2)\n",
    "    plt.plot(np.arange(0,10.01,0.01),first_order(x),label=rf'c = {c[i]}')\n",
    "    plt.title(r'一阶变差',fontfamily='SimHei')\n",
    "    plt.subplot(1,3,3)\n",
    "    plt.plot(np.arange(0,10.01,0.01),second_order(x),label=rf'c = {c[i]}')\n",
    "    plt.title(r'二阶变差',fontfamily='SimHei')\n",
    "plt.subplot(1,3,1)\n",
    "plt.legend(loc='upper left',fontsize=10)\n",
    "plt.savefig('p1_4.png',dpi=400)"
   ]
  },
  {
   "cell_type": "code",
   "execution_count": 31,
   "metadata": {},
   "outputs": [],
   "source": [
    "plt.figure(figsize=(24,6))\n",
    "x=BM(dt = 0.01, T = 100)\n",
    "fig,ax = plt.subplots(1, 3, figsize=(18, 6), gridspec_kw={'width_ratios': [2, 1, 1]})\n",
    "ax[0].plot(np.arange(0,100.01,0.01),x)\n",
    "ax[0].set_title(r'布朗运动轨迹',fontfamily='SimHei')\n",
    "for i in range(5):\n",
    "    ax[1].plot(np.arange(0,100.01,0.01),first_order(x,10*i+1),label=rf'$|\\Delta|$ ={(10*i+1)*0.01}')\n",
    "    ax[1].set_title(r'一阶变差',fontfamily='SimHei')\n",
    "    ax[2].plot(np.arange(0,100.001,0.01),second_order(x,10*i+1),label=rf'$|\\Delta|$ ={(10*i+1)*0.01}')\n",
    "    ax[2].set_title(r'二阶变差',fontfamily='SimHei')\n",
    "fig.legend(loc='upper left',fontsize=10)\n",
    "plt.savefig('p1_5.png',dpi=400)"
   ]
  },
  {
   "cell_type": "code",
   "execution_count": null,
   "metadata": {},
   "outputs": [],
   "source": []
  },
  {
   "cell_type": "code",
   "execution_count": 20,
   "metadata": {},
   "outputs": [],
   "source": [
    "\n",
    "fig,ax = plt.subplots(1, 2,figsize=(18, 6), gridspec_kw={'width_ratios': [2, 1]})\n",
    "for i in range(5):\n",
    "    x = OU(x0 = 0,c =1, dt=0.01, T=10, alpha = 1 , v = 1,sigma =1)\n",
    "    ax[0].plot(np.arange(0,10.01,0.01),x)\n",
    "    ax[0].set_title(r'OU过程轨迹',fontfamily='SimHei')\n",
    "    ax[1].plot(np.arange(0,10.01,0.01),second_order(x))\n",
    "    ax[1].set_title(r'二阶变差',fontfamily='SimHei')\n",
    "plt.savefig('q2_1_1.png',dpi=400)"
   ]
  },
  {
   "cell_type": "code",
   "execution_count": 21,
   "metadata": {},
   "outputs": [],
   "source": [
    "fig,ax = plt.subplots(1, 2,figsize=(18, 6), gridspec_kw={'width_ratios': [2, 1]})\n",
    "for i in range(5):\n",
    "    x = OU(x0 = 1,c =1, dt=0.01, T=10, alpha = -1 , v = 1,sigma =1)\n",
    "    ax[0].plot(np.arange(0,10.01,0.01),x)\n",
    "    ax[0].set_title(r'OU过程轨迹',fontfamily='SimHei')\n",
    "    ax[1].plot(np.arange(0,10.01,0.01),second_order(x))\n",
    "    ax[1].set_title(r'二阶变差',fontfamily='SimHei')\n",
    "plt.savefig('q2_1_2.png',dpi=400)"
   ]
  },
  {
   "cell_type": "code",
   "execution_count": 22,
   "metadata": {},
   "outputs": [
    {
     "name": "stderr",
     "output_type": "stream",
     "text": [
      "C:\\Users\\lenovo\\AppData\\Local\\Temp\\ipykernel_17384\\3652870285.py:1: RuntimeWarning: More than 20 figures have been opened. Figures created through the pyplot interface (`matplotlib.pyplot.figure`) are retained until explicitly closed and may consume too much memory. (To control this warning, see the rcParam `figure.max_open_warning`).\n",
      "  fig,ax = plt.subplots(1, 2,figsize=(18, 6), gridspec_kw={'width_ratios': [2, 1]})\n"
     ]
    }
   ],
   "source": [
    "\n",
    "fig,ax = plt.subplots(1, 2,figsize=(18, 6), gridspec_kw={'width_ratios': [2, 1]})\n",
    "for i in range(5):\n",
    "    x = OU(x0 = 2,c =1, dt=0.01, T=10, alpha = -1 , v = 3,sigma =2)\n",
    "    ax[0].plot(np.arange(0,10.01,0.01),x)\n",
    "    ax[0].set_title(r'OU过程轨迹',fontfamily='SimHei')\n",
    "    ax[1].plot(np.arange(0,10.01,0.01),second_order(x))\n",
    "    ax[1].set_title(r'二阶变差',fontfamily='SimHei')\n",
    "plt.savefig('q2_1_3.png',dpi=400)"
   ]
  },
  {
   "cell_type": "code",
   "execution_count": 23,
   "metadata": {},
   "outputs": [],
   "source": [
    "\n",
    "fig,ax = plt.subplots(1, 2,figsize=(18, 6), gridspec_kw={'width_ratios': [2, 1]})\n",
    "for i in range(5):\n",
    "    x = OU(x0 = 1,c =1, dt=0.01, T=10, alpha = 0.5 , v = 0,sigma =5)\n",
    "    ax[0].plot(np.arange(0,10.01,0.01),x)\n",
    "    ax[0].set_title(r'OU过程轨迹',fontfamily='SimHei')\n",
    "    ax[1].plot(np.arange(0,10.01,0.01),second_order(x))\n",
    "    ax[1].set_title(r'二阶变差',fontfamily='SimHei')\n",
    "plt.savefig('q2_1_4.png',dpi=400)"
   ]
  },
  {
   "cell_type": "code",
   "execution_count": 27,
   "metadata": {},
   "outputs": [],
   "source": [
    "plt.figure(figsize=(18,6))\n",
    "for i in range(6):\n",
    "    x= OU(x0 = 1 ,c =1, dt=0.01, T=100, alpha = 1 , v = 0,sigma =1)\n",
    "    plt.plot(np.arange(0,100.01,0.01),x)\n",
    "    plt.title(r'$\\alpha = 1$',fontfamily = 'SimHei')\n",
    "plt.savefig('q2_2_1.png',dpi = 400)"
   ]
  },
  {
   "cell_type": "code",
   "execution_count": 29,
   "metadata": {},
   "outputs": [],
   "source": [
    "plt.figure(figsize=(18,6))\n",
    "for i in range(6):\n",
    "    x= OU(x0 = 1 ,c =1, dt=0.01, T=100, alpha = 0.1 , v = 0,sigma =1)\n",
    "    plt.plot(np.arange(0,100.01,0.01),x)\n",
    "    plt.title(r'$\\alpha = 0.1$',fontfamily = 'SimHei')\n",
    "plt.savefig('q2_2_2.png',dpi = 400)"
   ]
  },
  {
   "cell_type": "code",
   "execution_count": 30,
   "metadata": {},
   "outputs": [],
   "source": [
    "plt.figure(figsize=(18,6))\n",
    "for i in range(6):\n",
    "    x= OU(x0 = 1 ,c =1, dt=0.01, T=100, alpha = 0 , v = 0,sigma =1)\n",
    "    plt.plot(np.arange(0,100.01,0.01),x)\n",
    "    plt.title(r'$\\alpha = 1$',fontfamily = 'SimHei')\n",
    "plt.savefig('q2_2_3.png',dpi = 400)"
   ]
  },
  {
   "cell_type": "code",
   "execution_count": 31,
   "metadata": {},
   "outputs": [],
   "source": [
    "plt.figure(figsize=(18,6))\n",
    "for i in range(6):\n",
    "    x= OU(x0 = 1 ,c =1, dt=0.01, T=100, alpha = -0.1 , v = 0,sigma =1)\n",
    "    plt.plot(np.arange(0,100.01,0.01),x)\n",
    "    plt.title(r'$\\alpha = 1$',fontfamily = 'SimHei')\n",
    "plt.savefig('q2_2_4.png',dpi = 400)"
   ]
  },
  {
   "cell_type": "code",
   "execution_count": 32,
   "metadata": {},
   "outputs": [],
   "source": [
    "plt.figure(figsize=(18,6))\n",
    "for i in range(6):\n",
    "    x= OU(x0 = 1 ,c =1, dt=0.01, T=100, alpha = -1 , v = 0,sigma =1)\n",
    "    plt.plot(np.arange(0,100.01,0.01),x)\n",
    "    plt.title(r'$\\alpha = 1$',fontfamily = 'SimHei')\n",
    "plt.savefig('q2_2_5.png',dpi = 400)"
   ]
  },
  {
   "cell_type": "code",
   "execution_count": 48,
   "metadata": {},
   "outputs": [],
   "source": [
    "plt.figure(figsize=(18,6))\n",
    "for i in range(10):\n",
    "    x= OU(x0 = 1 ,c =1, dt=0.01, T=100, alpha = -1 , v = 0,sigma =1)\n",
    "    plt.plot(np.arange(0,100.01,0.01),x)\n",
    "    plt.title(r'$x_0 =1, v=0 $',fontfamily = 'SimHei')\n",
    "plt.savefig('q2_2_6.png',dpi = 400)"
   ]
  },
  {
   "cell_type": "code",
   "execution_count": 49,
   "metadata": {},
   "outputs": [],
   "source": [
    "plt.figure(figsize=(18,6))\n",
    "for i in range(10):\n",
    "    x= OU(x0 = 0 ,c =1, dt=0.01, T=100, alpha = -1 , v = 0,sigma =1)\n",
    "    plt.plot(np.arange(0,100.01,0.01),x)\n",
    "    plt.title(r'$x_0 =0, v=0 $',fontfamily = 'SimHei')\n",
    "plt.savefig('q2_2_7.png',dpi = 400)"
   ]
  },
  {
   "cell_type": "code",
   "execution_count": 58,
   "metadata": {},
   "outputs": [],
   "source": [
    "plt.figure(figsize=(18,6))\n",
    "for i in range(10):\n",
    "    x= OU(x0 = -1 ,c =1, dt=0.01, T=100, alpha = -1 , v = 0,sigma =1)\n",
    "    plt.plot(np.arange(0,100.01,0.01),x)\n",
    "    plt.title(r'$x_0 =-1, v=0 $',fontfamily = 'SimHei')\n",
    "plt.savefig('q2_2_8.png',dpi = 400)"
   ]
  },
  {
   "cell_type": "code",
   "execution_count": null,
   "metadata": {},
   "outputs": [],
   "source": [
    "plt.figure(figsize=(18,6))\n",
    "for i in range(10):\n",
    "    x= OU(x0 = -1 ,c =1, dt=0.01, T=100, alpha = -1 , v = 0,sigma =1)\n",
    "    plt.plot(np.arange(0,100.01,0.01),x)\n",
    "    plt.title(r'$v=0 $',fontfamily = 'SimHei')\n",
    "plt.savefig('q2_2_8.png',dpi = 400)"
   ]
  },
  {
   "cell_type": "code",
   "execution_count": 53,
   "metadata": {},
   "outputs": [],
   "source": [
    "plt.figure(figsize=(18,6))\n",
    "for i in range(10):\n",
    "    x= OU(x0 = 10 ,c =1, dt=0.01, T=100, alpha = 0.1 , v = 0,sigma =1)\n",
    "    plt.plot(np.arange(0,100.01,0.01),x)\n",
    "    plt.title(r'$x_0 =10, v=0 $',fontfamily = 'SimHei')\n",
    "plt.savefig('q2_2_9.png',dpi = 400)"
   ]
  },
  {
   "cell_type": "code",
   "execution_count": 55,
   "metadata": {},
   "outputs": [],
   "source": [
    "plt.figure(figsize=(18,6))\n",
    "for i in range(10):\n",
    "    x= OU(x0 = -10 ,c =1, dt=0.01, T=100, alpha = 0.1 , v = 0,sigma =1)\n",
    "    plt.plot(np.arange(0,100.01,0.01),x)\n",
    "    plt.title(r'$x_0 =-10, v=0 $',fontfamily = 'SimHei')\n",
    "plt.savefig('q2_2_10.png',dpi = 400)"
   ]
  },
  {
   "cell_type": "code",
   "execution_count": 57,
   "metadata": {},
   "outputs": [],
   "source": [
    "plt.figure(figsize=(18,6))\n",
    "for i in range(10):\n",
    "    x= OU(x0 = 10 ,c =1, dt=0.01, T=100, alpha = 0.1 , v = 10,sigma =1)\n",
    "    plt.plot(np.arange(0,100.01,0.01),x)\n",
    "    plt.title(r'$x_0 =10, v=10 $',fontfamily = 'SimHei')\n",
    "plt.savefig('q2_2_11.png',dpi = 400)"
   ]
  },
  {
   "cell_type": "code",
   "execution_count": 69,
   "metadata": {},
   "outputs": [],
   "source": [
    "plt.figure(figsize=(6,6))\n",
    "for i in range(10):\n",
    "    x= OU(x0 = 1 ,c =1, dt=0.01, T=10, alpha = 5 , v = 0,sigma =0)\n",
    "    plt.plot(np.arange(0,10.01,0.01),second_order(x))\n",
    "    plt.title(r'$\\sigma =0 $',fontfamily = 'SimHei')\n",
    "plt.savefig('q2_3_1.png',dpi = 400)"
   ]
  },
  {
   "cell_type": "code",
   "execution_count": 70,
   "metadata": {},
   "outputs": [],
   "source": [
    "plt.figure(figsize=(6,6))\n",
    "for i in range(10):\n",
    "    x= OU(x0 = 1 ,c =1, dt=0.01, T=10, alpha = 5 , v = 0,sigma =0.5)\n",
    "    plt.plot(np.arange(0,10.01,0.01),second_order(x))\n",
    "    plt.title(r'$\\sigma = 0.5 $',fontfamily = 'SimHei')\n",
    "plt.savefig('q2_3_2.png',dpi = 400)"
   ]
  },
  {
   "cell_type": "code",
   "execution_count": 71,
   "metadata": {},
   "outputs": [],
   "source": [
    "plt.figure(figsize=(6,6))\n",
    "for i in range(10):\n",
    "    x= OU(x0 = 1 ,c =1, dt=0.01, T=10, alpha = 5 , v = 0,sigma =1)\n",
    "    plt.plot(np.arange(0,10.01,0.01),second_order(x))\n",
    "    plt.title(r'$\\sigma = 1 $',fontfamily = 'SimHei')\n",
    "plt.savefig('q2_3_3.png',dpi = 400)"
   ]
  },
  {
   "cell_type": "code",
   "execution_count": 72,
   "metadata": {},
   "outputs": [],
   "source": [
    "plt.figure(figsize=(6,6))\n",
    "for i in range(10):\n",
    "    x= OU(x0 = 1 ,c =1, dt=0.01, T=10, alpha = 5 , v = 0,sigma =5)\n",
    "    plt.plot(np.arange(0,10.01,0.01),second_order(x))\n",
    "    plt.title(r'$\\sigma =5 $',fontfamily = 'SimHei')\n",
    "plt.savefig('q2_3_4.png',dpi = 400)"
   ]
  },
  {
   "cell_type": "code",
   "execution_count": 89,
   "metadata": {},
   "outputs": [],
   "source": [
    "plt.figure(figsize=(6,6))\n",
    "for i in range(10):\n",
    "    x= OU(x0 = 1 ,c =1, dt=0.01, T=10, alpha = 1 , v = 0,sigma =1)\n",
    "    plt.plot(np.arange(0,10.01,0.01),second_order(x))\n",
    "    plt.title(r'$\\alpha =1 $',fontfamily = 'SimHei')\n",
    "plt.savefig('q2_3_5.png',dpi = 400)"
   ]
  },
  {
   "cell_type": "code",
   "execution_count": 90,
   "metadata": {},
   "outputs": [],
   "source": [
    "plt.figure(figsize=(6,6))\n",
    "for i in range(10):\n",
    "    x= OU(x0 = 1 ,c =1, dt=0.01, T=10, alpha = 0 , v = 0,sigma =1)\n",
    "    plt.plot(np.arange(0,10.01,0.01),second_order(x))\n",
    "    plt.title(r'$\\alpha =0 $',fontfamily = 'SimHei')\n",
    "plt.savefig('q2_3_6.png',dpi = 400)"
   ]
  },
  {
   "cell_type": "code",
   "execution_count": 91,
   "metadata": {},
   "outputs": [],
   "source": [
    "plt.figure(figsize=(6,6))\n",
    "for i in range(10):\n",
    "    x= OU(x0 = 1 ,c =1, dt=0.01, T=10, alpha = -1 , v = 0,sigma =1)\n",
    "    plt.plot(np.arange(0,10.01,0.01),second_order(x))\n",
    "    plt.title(r'$\\alpha =-1 $',fontfamily = 'SimHei')\n",
    "plt.savefig('q2_3_7.png',dpi = 400)"
   ]
  },
  {
   "cell_type": "code",
   "execution_count": 92,
   "metadata": {},
   "outputs": [],
   "source": [
    "plt.figure(figsize=(6,6))\n",
    "for i in range(10):\n",
    "    x= OU(x0 = 1 ,c =1, dt=0.01, T=10, alpha = -2 , v = 0,sigma =1)\n",
    "    plt.plot(np.arange(0,10.01,0.01),second_order(x))\n",
    "    plt.title(r'$\\alpha =-2 $',fontfamily = 'SimHei')\n",
    "plt.savefig('q2_3_8.png',dpi = 400)"
   ]
  },
  {
   "cell_type": "code",
   "execution_count": 28,
   "metadata": {},
   "outputs": [],
   "source": [
    "def plot_OU_set(x0=0,s0=0, c=1, dt=0.01, T=1, alpha=1, v=0, theta=1, sigma =1, sigma_1 = 1, sigma_2 = 1, name = None):\n",
    "    X_S = OU_set(x0,s0, c, dt, T, alpha, v, theta, sigma, sigma_1, sigma_2)\n",
    "    fig,ax = plt.subplots(1, 3,figsize=(24, 6), gridspec_kw={'width_ratios': [2, 1,1]})\n",
    "    ax[0].plot(np.arange(0,T+dt,dt),X_S[0], label = 'X')\n",
    "    ax[0].plot(np.arange(0,T+dt,dt),X_S[1], label = 'S')\n",
    "    ax[0].legend(fontsize = 18)\n",
    "    ax[1].plot(np.arange(0,T+dt,dt),second_order_mix(X_S[0],X_S[1]))\n",
    "    #给图加标题\n",
    "    ax[0].set_title(r'$X_t,S_t$过程轨迹',fontfamily='SimHei',fontsize = 20)\n",
    "    ax[1].set_title(r'二阶混合变差',fontfamily='SimHei', fontsize =20)\n",
    "    ax[2].plot(X_S[0],X_S[1])\n",
    "    ax[2].set_title(r'$(X_t,S_t)$图像',fontfamily = 'SimHei',fontsize =20)\n",
    "    plt.savefig(name,dpi=400)"
   ]
  },
  {
   "cell_type": "code",
   "execution_count": 33,
   "metadata": {},
   "outputs": [],
   "source": [
    "plot_OU_set(T=10,name = 'q3_1_1.png')"
   ]
  },
  {
   "cell_type": "code",
   "execution_count": 31,
   "metadata": {},
   "outputs": [],
   "source": [
    "plot_OU_set(s0 =1,T=10,alpha = 0.5, theta=2,name = 'q3_1_2.png')"
   ]
  },
  {
   "cell_type": "code",
   "execution_count": 32,
   "metadata": {},
   "outputs": [],
   "source": [
    "plot_OU_set(x0 = 1, s0 = 0, T=10, alpha = 1, v = 2, theta = 2, sigma = 0.5, sigma_1 = 1, sigma_2 = 2, name = 'q3_1_3.png')"
   ]
  },
  {
   "cell_type": "code",
   "execution_count": 34,
   "metadata": {},
   "outputs": [
    {
     "name": "stderr",
     "output_type": "stream",
     "text": [
      "C:\\Users\\lenovo\\AppData\\Local\\Temp\\ipykernel_20496\\2996848711.py:3: RuntimeWarning: More than 20 figures have been opened. Figures created through the pyplot interface (`matplotlib.pyplot.figure`) are retained until explicitly closed and may consume too much memory. (To control this warning, see the rcParam `figure.max_open_warning`).\n",
      "  fig,ax = plt.subplots(1, 3,figsize=(24, 6), gridspec_kw={'width_ratios': [2, 1,1]})\n"
     ]
    }
   ],
   "source": [
    "plot_OU_set(T=10, alpha = -1, theta = -1, name = 'q3_1_4.png' )"
   ]
  },
  {
   "cell_type": "code",
   "execution_count": 35,
   "metadata": {},
   "outputs": [],
   "source": [
    "plot_OU_set(x0 = -1, s0 = 0, T=10, sigma = 1, sigma_1 = -2, sigma_2 = 2, name = 'q3_1_5.png')"
   ]
  },
  {
   "cell_type": "code",
   "execution_count": 40,
   "metadata": {},
   "outputs": [],
   "source": [
    "plot_OU_set(x0 = 1, s0 = 0, T=10, alpha = 1, v = 2, theta = 2, sigma = 1, sigma_1 = 1, sigma_2 = 0, name = 'q3_1_6.png')"
   ]
  },
  {
   "cell_type": "code",
   "execution_count": 64,
   "metadata": {},
   "outputs": [],
   "source": [
    "def plot_OU_set_XS(x0=0,s0=0, c=1, dt=0.01, T=100, alpha=1, v=0, theta=0.5, sigma =1, sigma_1 = 1, sigma_2 = 1, name = None):\n",
    "    fig,ax = plt.subplots(1, 3,figsize=(30, 6))\n",
    "    plt.rcParams['font.size'] = 30\n",
    "    for i in range(3):\n",
    "        X_S = OU_set(x0,s0, c, dt, T, alpha, v, theta, sigma, sigma_1, sigma_2)\n",
    "        ax[i].plot(np.arange(0,T+dt,dt),X_S[0], label = 'X')\n",
    "        ax[i].plot(np.arange(0,T+dt,dt),X_S[1], label = 'S')\n",
    "        ax[i].legend(fontsize = 18)\n",
    "    plt.savefig(name,dpi=800)\n"
   ]
  },
  {
   "cell_type": "code",
   "execution_count": 48,
   "metadata": {},
   "outputs": [],
   "source": [
    "plot_OU_set_XS(s0 =1, v=1,name = 'q3_2_1.png')"
   ]
  },
  {
   "cell_type": "code",
   "execution_count": 50,
   "metadata": {},
   "outputs": [],
   "source": [
    "plot_OU_set_XS(s0 =1, v=1, theta=0.1,name = 'q3_2_2.png')"
   ]
  },
  {
   "cell_type": "code",
   "execution_count": 51,
   "metadata": {},
   "outputs": [],
   "source": [
    "plot_OU_set_XS(s0=1,v=1,theta = 0,name = 'q3_2_3.png')"
   ]
  },
  {
   "cell_type": "code",
   "execution_count": 55,
   "metadata": {},
   "outputs": [],
   "source": [
    "plot_OU_set_XS(s0=1,v=1,theta = -1,name = 'q3_2_4.png')"
   ]
  },
  {
   "cell_type": "code",
   "execution_count": 66,
   "metadata": {},
   "outputs": [],
   "source": [
    "plot_OU_set_XS(x0 = 10, s0=-10,v=1,name = 'q3_2_5.png')"
   ]
  },
  {
   "cell_type": "code",
   "execution_count": 67,
   "metadata": {},
   "outputs": [],
   "source": [
    "plot_OU_set_XS(x0=4, s0=1,v=-10,name = 'q3_2_6.png')"
   ]
  },
  {
   "cell_type": "code",
   "execution_count": 68,
   "metadata": {},
   "outputs": [],
   "source": [
    "plot_OU_set_XS(x0=-10, s0=10,v=1,name = 'q3_2_7.png')"
   ]
  },
  {
   "cell_type": "code",
   "execution_count": 71,
   "metadata": {},
   "outputs": [],
   "source": [
    "plot_OU_set_XS(sigma =1, sigma_1 = 1, sigma_2 = 1, name = 'q3_2_8.png')"
   ]
  },
  {
   "cell_type": "code",
   "execution_count": 69,
   "metadata": {},
   "outputs": [],
   "source": [
    "plot_OU_set_XS(sigma =1, sigma_1 = 1, sigma_2 = 2,name = 'q3_2_9.png')"
   ]
  },
  {
   "cell_type": "code",
   "execution_count": 75,
   "metadata": {},
   "outputs": [],
   "source": [
    "plot_OU_set_XS(sigma =1, sigma_1 = 3, sigma_2 = 1, name = 'q3_2_10.png')"
   ]
  },
  {
   "cell_type": "code",
   "execution_count": 73,
   "metadata": {},
   "outputs": [],
   "source": [
    "plot_OU_set_XS(sigma =1, sigma_1 = -1, sigma_2 = 1, name = 'q3_2_11.png')"
   ]
  },
  {
   "cell_type": "code",
   "execution_count": 76,
   "metadata": {},
   "outputs": [],
   "source": [
    "plot_OU_set_XS(sigma =3, sigma_1 = 1, sigma_2 = 1, name = 'q3_2_12.png')"
   ]
  },
  {
   "cell_type": "code",
   "execution_count": 106,
   "metadata": {},
   "outputs": [],
   "source": [
    "plt.figure(figsize=(6,6))\n",
    "plt.rcParams['font.size'] = 18\n",
    "for i in range(10):\n",
    "    X_S= OU_set(x0=0,s0=0, c=1, dt=0.01, T=10, alpha=1, v=0, theta=0.5, sigma =1, sigma_1 = 1, sigma_2 = 1)\n",
    "    plt.plot(np.arange(0,10.01,0.01),second_order_mix(X_S[0],X_S[1]))\n",
    "    plt.title(r'$\\alpha = 1,\\theta =0.5 $',fontfamily = 'SimHei',fontsize = 24)\n",
    "plt.savefig('q3_3_1.png',dpi = 400)"
   ]
  },
  {
   "cell_type": "code",
   "execution_count": 107,
   "metadata": {},
   "outputs": [],
   "source": [
    "plt.figure(figsize=(6,6))\n",
    "plt.rcParams['font.size'] = 18\n",
    "for i in range(10):\n",
    "    X_S= OU_set(x0=0,s0=0, c=1, dt=0.01, T=10, alpha=0.2, v=0, theta=0.2, sigma =1, sigma_1 = 1, sigma_2 = 1)\n",
    "    plt.plot(np.arange(0,10.01,0.01),second_order_mix(X_S[0],X_S[1]))\n",
    "    plt.title(r'$\\alpha = 0.2,\\theta =0.2 $',fontfamily = 'SimHei',fontsize = 24)\n",
    "plt.savefig('q3_3_2.png',dpi = 400)"
   ]
  },
  {
   "cell_type": "code",
   "execution_count": 108,
   "metadata": {},
   "outputs": [],
   "source": [
    "plt.figure(figsize=(6,6))\n",
    "plt.rcParams['font.size'] = 18\n",
    "for i in range(10):\n",
    "    X_S= OU_set(x0=0,s0=0, c=1, dt=0.01, T=10, alpha=-1, v=0, theta=0.5, sigma =1, sigma_1 = 1, sigma_2 = 1)\n",
    "    plt.plot(np.arange(0,10.01,0.01),second_order_mix(X_S[0],X_S[1]))\n",
    "    plt.title(r'$\\alpha = -1, \\theta =0.5 $',fontfamily = 'SimHei',fontsize = 24)\n",
    "plt.savefig('q3_3_3.png',dpi = 400)"
   ]
  },
  {
   "cell_type": "code",
   "execution_count": 109,
   "metadata": {},
   "outputs": [],
   "source": [
    "plt.figure(figsize=(6,6))\n",
    "plt.rcParams['font.size'] = 18\n",
    "for i in range(10):\n",
    "    X_S= OU_set(x0=0,s0=0, c=1, dt=0.01, T=10, alpha=1, v=0, theta=-1, sigma =1, sigma_1 = 1, sigma_2 = 1)\n",
    "    plt.plot(np.arange(0,10.01,0.01),second_order_mix(X_S[0],X_S[1]))\n",
    "    plt.title(r'$\\alpha =1,\\theta =-1 $',fontfamily = 'SimHei',fontsize = 24)\n",
    "plt.savefig('q3_3_4.png',dpi = 400)"
   ]
  },
  {
   "cell_type": "code",
   "execution_count": 104,
   "metadata": {},
   "outputs": [],
   "source": [
    "plt.figure(figsize=(6,6))\n",
    "plt.rcParams['font.size'] = 18\n",
    "for i in range(10):\n",
    "    X_S= OU_set(x0=0,s0=0, c=1, dt=0.01, T=10, alpha=1, v=0, theta=-0.7, sigma =1, sigma_1 = 1, sigma_2 = 1)\n",
    "    plt.plot(np.arange(0,10.01,0.01),second_order_mix(X_S[0],X_S[1]))\n",
    "    plt.title(r'$\\alpha = 1,\\theta =-0.7 $',fontfamily = 'SimHei',fontsize = 24)\n",
    "plt.savefig('q3_3_5.png',dpi = 400)"
   ]
  },
  {
   "cell_type": "code",
   "execution_count": 105,
   "metadata": {},
   "outputs": [],
   "source": [
    "plt.figure(figsize=(6,6))\n",
    "plt.rcParams['font.size'] = 18\n",
    "for i in range(10):\n",
    "    X_S= OU_set(x0=0,s0=0, c=1, dt=0.01, T=10, alpha=1, v=0, theta=-1, sigma =1, sigma_1 = 1, sigma_2 = 1)\n",
    "    plt.plot(np.arange(0,10.01,0.01),second_order_mix(X_S[0],X_S[1]))\n",
    "    plt.title(r'$\\alpha = 1,\\theta =-1 $',fontfamily = 'SimHei',fontsize = 24)\n",
    "plt.savefig('q3_3_6.png',dpi = 400)"
   ]
  },
  {
   "cell_type": "code",
   "execution_count": 114,
   "metadata": {},
   "outputs": [],
   "source": [
    "plt.figure(figsize=(6,6))\n",
    "plt.rcParams['font.size'] = 18\n",
    "for i in range(10):\n",
    "    X_S= OU_set(x0=0,s0=0, c=1, dt=0.01, T=10, alpha=1, v=1, theta=0.5, sigma =1, sigma_1 = 1, sigma_2 = 1)\n",
    "    plt.plot(np.arange(0,10.01,0.01),second_order_mix(X_S[0],X_S[1]))\n",
    "    plt.title(r'$\\sigma = 1,\\hat{\\sigma_1} = 1 $',fontfamily = 'SimHei',fontsize = 24)\n",
    "plt.plot(np.arange(0,10.01,0.01),1*1*np.arange(0,10.01,0.01),'k',label = r'$\\sigma \\hat{\\sigma_1} t$')\n",
    "plt.legend()\n",
    "plt.savefig('q3_4_1.png',dpi = 400)"
   ]
  },
  {
   "cell_type": "code",
   "execution_count": 115,
   "metadata": {},
   "outputs": [],
   "source": [
    "plt.figure(figsize=(6,6))\n",
    "plt.rcParams['font.size'] = 18\n",
    "for i in range(10):\n",
    "    X_S= OU_set(x0=0,s0=0, c=1, dt=0.01, T=10, alpha=1, v=1, theta=0.5, sigma =1, sigma_1 = 4, sigma_2 = 1)\n",
    "    plt.plot(np.arange(0,10.01,0.01),second_order_mix(X_S[0],X_S[1]))\n",
    "    plt.title(r'$\\sigma = 1,\\hat{\\sigma_1} = 4 $',fontfamily = 'SimHei',fontsize = 24)\n",
    "plt.plot(np.arange(0,10.01,0.01),1*4*np.arange(0,10.01,0.01),'k',label = r'$\\sigma \\hat{\\sigma_1} t$')\n",
    "plt.legend()\n",
    "plt.savefig('q3_4_2.png',dpi = 400)"
   ]
  },
  {
   "cell_type": "code",
   "execution_count": 116,
   "metadata": {},
   "outputs": [],
   "source": [
    "plt.figure(figsize=(6,6))\n",
    "plt.rcParams['font.size'] = 18\n",
    "for i in range(10):\n",
    "    X_S= OU_set(x0=0,s0=0, c=1, dt=0.01, T=10, alpha=1, v=1, theta=0.5, sigma =1, sigma_1 = -1, sigma_2 = 1)\n",
    "    plt.plot(np.arange(0,10.01,0.01),second_order_mix(X_S[0],X_S[1]))\n",
    "    plt.title(r'$\\sigma = 1,\\hat{\\sigma_1} = -1 $',fontfamily = 'SimHei',fontsize = 24)\n",
    "plt.plot(np.arange(0,10.01,0.01),-1*1*np.arange(0,10.01,0.01),'k',label = r'$\\sigma \\hat{\\sigma_1} t$')\n",
    "plt.legend()\n",
    "plt.savefig('q3_4_3.png',dpi = 400)"
   ]
  },
  {
   "cell_type": "code",
   "execution_count": 117,
   "metadata": {},
   "outputs": [],
   "source": [
    "plt.figure(figsize=(6,6))\n",
    "plt.rcParams['font.size'] = 18\n",
    "for i in range(10):\n",
    "    X_S= OU_set(x0=0,s0=0, c=1, dt=0.01, T=10, alpha=1, v=1, theta=0.5, sigma =-3, sigma_1 = 1, sigma_2 = 1)\n",
    "    plt.plot(np.arange(0,10.01,0.01),second_order_mix(X_S[0],X_S[1]))\n",
    "    plt.title(r'$\\sigma = -3,\\hat{\\sigma_1} = 1 $',fontfamily = 'SimHei',fontsize = 24)\n",
    "plt.plot(np.arange(0,10.01,0.01),-3*1*np.arange(0,10.01,0.01),'k',label = r'$\\sigma \\hat{\\sigma_1} t$')\n",
    "plt.legend()\n",
    "plt.savefig('q3_4_4.png',dpi = 400)"
   ]
  },
  {
   "cell_type": "code",
   "execution_count": 11,
   "metadata": {},
   "outputs": [
    {
     "name": "stderr",
     "output_type": "stream",
     "text": [
      "C:\\Users\\lenovo\\AppData\\Local\\Temp\\ipykernel_17116\\1311781429.py:8: UserWarning: Matplotlib is currently using pgf, which is a non-GUI backend, so cannot show the figure.\n",
      "  plt.show()\n"
     ]
    }
   ],
   "source": [
    "plot_OU(dt=0.01, T=10)"
   ]
  },
  {
   "cell_type": "code",
   "execution_count": 12,
   "metadata": {},
   "outputs": [
    {
     "data": {
      "text/plain": [
       "[<matplotlib.lines.Line2D at 0x1e2e7279cd0>]"
      ]
     },
     "execution_count": 12,
     "metadata": {},
     "output_type": "execute_result"
    }
   ],
   "source": [
    "plt.plot(OU(dt = 0.01, T = 10, alpha = -0.1, v = 0))"
   ]
  },
  {
   "cell_type": "code",
   "execution_count": 13,
   "metadata": {},
   "outputs": [
    {
     "name": "stderr",
     "output_type": "stream",
     "text": [
      "C:\\Users\\lenovo\\AppData\\Local\\Temp\\ipykernel_17116\\2123482118.py:10: UserWarning: Matplotlib is currently using pgf, which is a non-GUI backend, so cannot show the figure.\n",
      "  plt.show()\n"
     ]
    }
   ],
   "source": [
    "plot_OU_set(dt=0.01, T=10)"
   ]
  },
  {
   "cell_type": "code",
   "execution_count": 14,
   "metadata": {},
   "outputs": [
    {
     "name": "stderr",
     "output_type": "stream",
     "text": [
      "C:\\Users\\lenovo\\AppData\\Local\\Temp\\ipykernel_17116\\2771054503.py:10: UserWarning: Matplotlib is currently using pgf, which is a non-GUI backend, so cannot show the figure.\n",
      "  plt.show()\n"
     ]
    }
   ],
   "source": [
    "X_S = OU_set(dt = 0.01, T = 10, alpha = 0.1, v = 1, theta = 1, sigma = 1, sigma_1 = 1, sigma_2 = 1)\n",
    "plt.figure(figsize=(12,6))\n",
    "plt.subplot(1,2,1)\n",
    "plt.plot(X_S[0], label = 'X')\n",
    "plt.plot(X_S[1], label = 'S')\n",
    "plt.legend()\n",
    "plt.subplot(1,2,2)\n",
    "plt.plot(second_order_mix(X_S[0],X_S[1]))\n",
    "plt.ylim(-0.1,0.1)\n",
    "plt.show()"
   ]
  }
 ],
 "metadata": {
  "kernelspec": {
   "display_name": "base",
   "language": "python",
   "name": "python3"
  },
  "language_info": {
   "codemirror_mode": {
    "name": "ipython",
    "version": 3
   },
   "file_extension": ".py",
   "mimetype": "text/x-python",
   "name": "python",
   "nbconvert_exporter": "python",
   "pygments_lexer": "ipython3",
   "version": "3.9.12"
  }
 },
 "nbformat": 4,
 "nbformat_minor": 2
}
