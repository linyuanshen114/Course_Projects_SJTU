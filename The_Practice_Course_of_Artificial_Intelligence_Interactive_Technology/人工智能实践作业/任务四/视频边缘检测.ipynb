{
 "cells": [
  {
   "cell_type": "markdown",
   "metadata": {},
   "source": [
    "### 课堂练习\n",
    "- 打开摄像头，当点击鼠标左键时，用laplace算子进行轮廓检测\n",
    "- 点击鼠标右键时，用canny算子进行轮廓检测\n",
    "- 点击鼠标滚轮时，用sobel算子进行轮廓检测\n",
    "- 双击鼠标左键时，还原为原画\n",
    "- 双击鼠标右键时，画出轮廓"
   ]
  },
  {
   "cell_type": "code",
   "execution_count": null,
   "metadata": {},
   "outputs": [],
   "source": [
    "#打开摄像头\n",
    "import cv2\n",
    "import numpy as np\n",
    "cap = cv2.VideoCapture(0)#\n",
    "l,r,m,d = 0,0,0,0\n",
    "cv2.namedWindow('opencv')\n",
    "def onMouse(event,x,y,flags,param):\n",
    "    global l,r,m,d\n",
    "    if event == cv2.EVENT_LBUTTONDOWN:\n",
    "        l,r,m,d = 1,0,0,0\n",
    "    if event == cv2.EVENT_RBUTTONDOWN:\n",
    "        l,r,m,d = 0,1,0,0\n",
    "    if event == cv2.EVENT_MBUTTONDOWN:\n",
    "        l,r,m,d = 0,0,1,0\n",
    "    if event == cv2.EVENT_LBUTTONDBLCLK:\n",
    "        l,r,m,d = 0,0,0,0\n",
    "    if event == cv2.EVENT_RBUTTONDBLCLK:\n",
    "        l,r,m,d = 0,0,0,1\n",
    "\n",
    "while cap.isOpened():\n",
    "    ret,frame = cap.read()\n",
    "    if ret:\n",
    "        cv2.setMouseCallback('opencv',onMouse)\n",
    "        if l == 1:\n",
    "            lap = cv2.Laplacian(frame, cv2.CV_16S)\n",
    "            frame = cv2.convertScaleAbs(lap)\n",
    "        if r == 1:\n",
    "            frame = cv2.Canny(frame, 70, 140)\n",
    "        if m == 1:\n",
    "            frame_1 = cv2.Sobel(frame,cv2.CV_16S,0,1) \n",
    "            frame = cv2.convertScaleAbs(frame_1) \n",
    "        if d == 1:\n",
    "\n",
    "            frame_gray = cv2.cvtColor(frame, cv2.COLOR_BGR2GRAY)\n",
    "            ret,binary = cv2.threshold(img_gray, 240, 255, cv2.THRESH_BINARY)\n",
    "            ret1,binary = cv2.threshold(frame_gray, 0, 255, cv2.THRESH_BINARY+cv2.THRESH_OTSU)\n",
    "            contours, hirerarchy = cv2.findContours(\n",
    "                binary,\n",
    "                cv2.RETR_TREE,\n",
    "                cv2.CHAIN_APPROX_SIMPLE)\n",
    "            area = []\n",
    "            for i in contours:\n",
    "                area.append(cv2.contourArea(i))\n",
    "            ind = np.argmax(np.array(area))\n",
    "\n",
    "            cv2.drawContours(frame, contours, -1, (255,12,25), 2)\n",
    "            x,y,w,h = cv2.boundingRect(contours[1])\n",
    "            frame = cv2.rectangle(frame, (x,y), (x+w,y+h),(0,255,255),2)\n",
    "        cv2.imshow('opencv',frame)\n",
    "        if cv2.waitKey(10) == ord(' '):\n",
    "            break\n",
    "    else:\n",
    "        break\n",
    "#4 关闭摄像头\n",
    "cap.release()\n",
    "cv2.destroyAllWindows()"
   ]
  }
 ],
 "metadata": {
  "language_info": {
   "name": "python"
  },
  "orig_nbformat": 4
 },
 "nbformat": 4,
 "nbformat_minor": 2
}
